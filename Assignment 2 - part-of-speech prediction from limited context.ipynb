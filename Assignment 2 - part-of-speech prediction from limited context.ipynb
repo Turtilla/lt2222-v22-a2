{
 "cells": [
  {
   "cell_type": "markdown",
   "id": "4045a47f",
   "metadata": {},
   "source": [
    "# Assignment 2 - part-of-speech prediction from limited context\n",
    "\n",
    "In this assignment, you will train classifiers that attempt, within a window of five words, to make a binary prediction about whether the third word belongs to a given part of speech (noun, verb, adjective, adverb), but using very limited information -- that is, the last two letters of the first, second, fourth, and fifth word of the sequence, and no information whatsoever directly from the third word itself.  You will strip out all punctuation (using the NLTK `WordPunctTokenizer`), lowercase, and remove stop words (using the NLTK English stop words list).\n",
    "\n",
    "In other words, you will predict over samples that have two classes, P and not-P, where P is the selected part of speech to classify.  For example, from the sentence, \"The quick brown fox jumped over the lazy dog.\", we can select the following 5-word windows without stop words, \"brown fox jumped lazy dog\" and \"quick brown fox jumped lazy\".  If we select verbs as the part-of-speech we are classifying over, we get the instances <(wn,ox,zy,og),1>, since \"jumped\" is a verb, but <(ck,wn,ed,zy),0> because \"fox\" in that context is not.\n",
    "\n",
    "This means that you will need to take into account the position of the last-two-letter feature:  \"zy\" as the fourth word's last two letters is different from \"zy\" as the fifth word's last two letters.  They are two features, say, `zy_4` and `zy_5`.\n",
    "\n",
    "This will likely not actually work.  But it might!\n",
    "\n",
    "You will create training and testing samples according to this procedure, and you will build a data structure that can be fed to a support vector machine (SVM) classifier.  You will train the classifier on the training data and evaluate it on the testing data. \n",
    "\n",
    "The work will be done in a .py module file in the same folder as this notebook.  **No modifications to this notebook will be graded.** We will run your module using this notebook or one we modify that you won't see in order to test your code.\n",
    "\n",
    "The file you must create and add to the github repo is `mycode.py`, which will be imported here.  You can create your own notebooks or scripts to test it.  You can put any number of your own helper functions and also put optional parameters on any of the python functions mentioned here. You should also create a Markdown file, `notes.md`, to keep any **concise** notes and remarks about the assignment.  The code must run on mltgpu.\n",
    "\n",
    "**This assignment is due Monday, 2022 March 7, at 23:59. There are 33 points and 5 bonus points.**"
   ]
  },
  {
   "cell_type": "code",
   "execution_count": 1,
   "id": "e61facb2",
   "metadata": {},
   "outputs": [
    {
     "name": "stderr",
     "output_type": "stream",
     "text": [
      "[nltk_data] Downloading package stopwords to\n",
      "[nltk_data]     /home/turtilla/nltk_data...\n",
      "[nltk_data]   Package stopwords is already up-to-date!\n",
      "[nltk_data] Downloading package averaged_perceptron_tagger to\n",
      "[nltk_data]     /home/turtilla/nltk_data...\n",
      "[nltk_data]   Package averaged_perceptron_tagger is already up-to-\n",
      "[nltk_data]       date!\n"
     ]
    }
   ],
   "source": [
    "import mycode as mc"
   ]
  },
  {
   "cell_type": "markdown",
   "id": "129e40ca",
   "metadata": {},
   "source": [
    "## Part 0 - preparation (2 points)\n",
    "\n",
    "Fork this repository and create and add `mycode.py` and `notes.md`. \n",
    "\n",
    "## Part 1 - obtaining the text (3 points)\n",
    "\n",
    "You will randomly select the given number of lines from the gzipped file we give you (so you will have to figure out how to access gzipped text files).  Explain how you implemented the random selection in `notes.md`. When we run it, it should give a new sample every time."
   ]
  },
  {
   "cell_type": "code",
   "execution_count": 2,
   "id": "612f08f1",
   "metadata": {},
   "outputs": [
    {
     "name": "stdout",
     "output_type": "stream",
     "text": [
      "100000\n"
     ]
    },
    {
     "data": {
      "text/plain": [
       "['He submits that a remedy is not \"meaningful\" unless the tribunal in question is open to considering all the options.',\n",
       " \"In the author's view, the fact that the Supreme Court has remained steadfast to reviewing cases based solely on the trial records presented, even in cases where a clear factual dispute is raised, shows that there is no adequate remedy left.\",\n",
       " 'Accordingly, the submission of the communication was not premature and should be deemed admissible.',\n",
       " '6.1 On 16 July 2003, the State party made additional submissions on the admissibility and the merits of the communication.',\n",
       " 'As to admissibility, the State party argues, in addition to its earlier arguments, that the author cannot claim to be a \"victim\", as required by the Optional Protocol, as there has been no concrete application of law to his detriment.',\n",
       " \"Indeed, as the 9 May 2002 decision of the Supreme Court reduced the imposed penalty to reclusion perpetua, the death penalty will not be imposed regardless of the author's age at the time of the offence.\",\n",
       " '6.2 As to the merits, the State party argues that the alleged violations are also premised on the author being a minor.',\n",
       " \"The State party argues that the author's minority has not yet been satisfactorily proven, and refers to the brief of the Office of the SolicitorGeneral filed in response to the author's partial motion for reconsideration before the Supreme Court.\",\n",
       " 'In the brief, the Office considers itself \"not in a position to state whether the certificate of live birth attached ... is authentic or not\", and leaves the matter to the \"sound judgement\" of the court.',\n",
       " \"In any event, the Supreme Court has already rejected the author's claim of minority, which finding stands until such time as the Supreme Court reverses it.\"]"
      ]
     },
     "execution_count": 2,
     "metadata": {},
     "output_type": "execute_result"
    }
   ],
   "source": [
    "sampled_lines = mc.sample_lines(\"UN-english.txt.gz\", lines=100000)\n",
    "                            \n",
    "print(len(sampled_lines))\n",
    "sampled_lines[40000:40010]"
   ]
  },
  {
   "cell_type": "markdown",
   "id": "ee94a339",
   "metadata": {},
   "source": [
    "## Part 2 - creating the samples (7 points)\n",
    "\n",
    "From the sampled lines, you will then randomly create the five-word samples.\n",
    "\n",
    "You will tokenize the sentences and apply POS-tagging to them -- you need to do this before you create the samples, since POS-tagging needs context. You will then remove stop words and punctuation and lowercase the remainder.  Next, you will randomly, over the entire set of sentences, choose samples of five words in sequence, up to a certain limit.  You find the last two characters of the first, second, fourth, and fifth words, and create the type of structure specified up in the introduction to this assignment for each sample. The exact representation is up to you."
   ]
  },
  {
   "cell_type": "code",
   "execution_count": 3,
   "id": "192b9d60",
   "metadata": {},
   "outputs": [
    {
     "data": {
      "text/plain": [
       "[[('submits', 'VBZ'),\n",
       "  ('remedy', 'NN'),\n",
       "  ('meaningful', 'JJ'),\n",
       "  ('unless', 'IN'),\n",
       "  ('tribunal', 'NN'),\n",
       "  ('question', 'NN'),\n",
       "  ('open', 'JJ'),\n",
       "  ('considering', 'VBG'),\n",
       "  ('options', 'NNS')],\n",
       " [('author', 'NN'),\n",
       "  ('view', 'NN'),\n",
       "  ('fact', 'NN'),\n",
       "  ('supreme', 'NNP'),\n",
       "  ('court', 'NNP'),\n",
       "  ('remained', 'VBN'),\n",
       "  ('steadfast', 'RB'),\n",
       "  ('reviewing', 'VBG'),\n",
       "  ('cases', 'NNS'),\n",
       "  ('based', 'VBN'),\n",
       "  ('solely', 'RB'),\n",
       "  ('trial', 'NN'),\n",
       "  ('records', 'NNS'),\n",
       "  ('presented', 'VBN'),\n",
       "  ('even', 'RB'),\n",
       "  ('cases', 'NNS'),\n",
       "  ('clear', 'JJ'),\n",
       "  ('factual', 'JJ'),\n",
       "  ('dispute', 'NN'),\n",
       "  ('raised', 'VBN'),\n",
       "  ('shows', 'VBZ'),\n",
       "  ('adequate', 'JJ'),\n",
       "  ('remedy', 'NN'),\n",
       "  ('left', 'VBD')],\n",
       " [('accordingly', 'RB'),\n",
       "  ('submission', 'NN'),\n",
       "  ('communication', 'NN'),\n",
       "  ('premature', 'JJ'),\n",
       "  ('deemed', 'VBN'),\n",
       "  ('admissible', 'JJ')],\n",
       " [('july', 'NNP'),\n",
       "  ('state', 'NNP'),\n",
       "  ('party', 'NN'),\n",
       "  ('made', 'VBD'),\n",
       "  ('additional', 'JJ'),\n",
       "  ('submissions', 'NNS'),\n",
       "  ('admissibility', 'NN'),\n",
       "  ('merits', 'NNS'),\n",
       "  ('communication', 'NN')],\n",
       " [('admissibility', 'NN'),\n",
       "  ('state', 'NNP'),\n",
       "  ('party', 'NN'),\n",
       "  ('argues', 'NNS'),\n",
       "  ('addition', 'NN'),\n",
       "  ('earlier', 'JJR'),\n",
       "  ('arguments', 'NNS'),\n",
       "  ('author', 'NN'),\n",
       "  ('cannot', 'NN'),\n",
       "  ('claim', 'NN'),\n",
       "  ('victim', 'NN'),\n",
       "  ('required', 'VBN'),\n",
       "  ('optional', 'NNP'),\n",
       "  ('protocol', 'NNP'),\n",
       "  ('concrete', 'JJ'),\n",
       "  ('application', 'NN'),\n",
       "  ('law', 'NN'),\n",
       "  ('detriment', 'NN')],\n",
       " [('indeed', 'RB'),\n",
       "  ('may', 'NNP'),\n",
       "  ('decision', 'NN'),\n",
       "  ('supreme', 'NNP'),\n",
       "  ('court', 'NNP'),\n",
       "  ('reduced', 'VBD'),\n",
       "  ('imposed', 'VBN'),\n",
       "  ('penalty', 'NN'),\n",
       "  ('reclusion', 'NN'),\n",
       "  ('perpetua', 'NN'),\n",
       "  ('death', 'NN'),\n",
       "  ('penalty', 'NN'),\n",
       "  ('imposed', 'VBN'),\n",
       "  ('regardless', 'RB'),\n",
       "  ('author', 'NN'),\n",
       "  ('age', 'NN'),\n",
       "  ('time', 'NN'),\n",
       "  ('offence', 'NN')],\n",
       " [('merits', 'NNS'),\n",
       "  ('state', 'NNP'),\n",
       "  ('party', 'NN'),\n",
       "  ('argues', 'NNS'),\n",
       "  ('alleged', 'VBN'),\n",
       "  ('violations', 'NNS'),\n",
       "  ('also', 'RB'),\n",
       "  ('premised', 'VBN'),\n",
       "  ('author', 'NN'),\n",
       "  ('minor', 'NN')],\n",
       " [('state', 'NNP'),\n",
       "  ('party', 'NN'),\n",
       "  ('argues', 'NNS'),\n",
       "  ('author', 'NN'),\n",
       "  ('minority', 'NN'),\n",
       "  ('yet', 'RB'),\n",
       "  ('satisfactorily', 'RB'),\n",
       "  ('proven', 'VBN'),\n",
       "  ('refers', 'NNS'),\n",
       "  ('brief', 'NN'),\n",
       "  ('office', 'NNP'),\n",
       "  ('solicitorgeneral', 'NNP'),\n",
       "  ('filed', 'VBD'),\n",
       "  ('response', 'NN'),\n",
       "  ('author', 'NN'),\n",
       "  ('partial', 'JJ'),\n",
       "  ('motion', 'NN'),\n",
       "  ('reconsideration', 'NN'),\n",
       "  ('supreme', 'NNP'),\n",
       "  ('court', 'NNP')],\n",
       " [('brief', 'NN'),\n",
       "  ('office', 'NNP'),\n",
       "  ('considers', 'NNS'),\n",
       "  ('position', 'NN'),\n",
       "  ('state', 'NN'),\n",
       "  ('whether', 'IN'),\n",
       "  ('certificate', 'NN'),\n",
       "  ('live', 'JJ'),\n",
       "  ('birth', 'NN'),\n",
       "  ('attached', 'VBD'),\n",
       "  ('authentic', 'JJ'),\n",
       "  ('leaves', 'VBZ'),\n",
       "  ('matter', 'NN'),\n",
       "  ('sound', 'NN'),\n",
       "  ('judgement', 'NN'),\n",
       "  ('court', 'NN')],\n",
       " [('event', 'NN'),\n",
       "  ('supreme', 'NNP'),\n",
       "  ('court', 'NNP'),\n",
       "  ('already', 'RB'),\n",
       "  ('rejected', 'VBN'),\n",
       "  ('author', 'NN'),\n",
       "  ('claim', 'NN'),\n",
       "  ('minority', 'NN'),\n",
       "  ('finding', 'VBG'),\n",
       "  ('stands', 'NNS'),\n",
       "  ('time', 'NN'),\n",
       "  ('supreme', 'NNP'),\n",
       "  ('court', 'NNP'),\n",
       "  ('reverses', 'VBZ')]]"
      ]
     },
     "execution_count": 3,
     "metadata": {},
     "output_type": "execute_result"
    }
   ],
   "source": [
    "processed_sentences = mc.process_sentences(sampled_lines)\n",
    "processed_sentences[40000:40010]"
   ]
  },
  {
   "cell_type": "code",
   "execution_count": 4,
   "id": "670bd928",
   "metadata": {},
   "outputs": [
    {
     "name": "stdout",
     "output_type": "stream",
     "text": [
      "50000\n",
      "[(('on', 'bt', 'ly', 'ed'), 0), (('bt', 'ms', 'ed', 'ow'), 0), (('ms', 'ly', 'ow', 'le'), 1), (('ly', 'ed', 'le', 'me'), 0), (('ed', 'ow', 'me', 'ng'), 0), (('ow', 'le', 'ng', 'es'), 0), (('le', 'me', 'es', 'le'), 1), (('me', 'ng', 'le', 'bt'), 0), (('ng', 'es', 'bt', 'ef'), 0), (('es', 'le', 'ef', 'ly'), 0)]\n"
     ]
    }
   ],
   "source": [
    "all_samples = mc.create_samples(processed_sentences, samples=50000)\n",
    "\n",
    "print(len(all_samples))\n",
    "print(all_samples[25000:25010])"
   ]
  },
  {
   "cell_type": "markdown",
   "id": "56f6be6d",
   "metadata": {},
   "source": [
    "## Part 3 - convert the samples into a Pandas DataFrame (10 points)\n",
    "\n",
    "Here, you will take the samples and create a table whose columns are the features and the class and whose rows are the samples.  All the features and the class will be binary.  Note that there may be many columns, in the hundreds or thousands depending on the diversity of the final two consonants of the non-stop-words in the dataset, but the sum of all rows will be five."
   ]
  },
  {
   "cell_type": "code",
   "execution_count": null,
   "id": "8f9fbd67",
   "metadata": {},
   "outputs": [],
   "source": [
    "fulldf = mc.create_df(all_samples)\n",
    "fulldf[25000:25010]"
   ]
  },
  {
   "cell_type": "markdown",
   "id": "a34b87ed",
   "metadata": {},
   "source": [
    "## Part 4 - extract training and testing sets (3 points)\n",
    "\n",
    "Here, you will create the training and testing datasets in order to train the model.  This will be based on a test percentage.  Round up if the percentage does not divide evenly into the sample size.  You will need to separate the class column into the y-values for the classifier."
   ]
  },
  {
   "cell_type": "code",
   "execution_count": null,
   "id": "cc332791",
   "metadata": {},
   "outputs": [],
   "source": [
    "train_X, train_y, test_X, test_y = mc.split_samples(fulldf, test_percent=20)\n",
    "len(train_X), len(train_y), len(test_X), len(test_y)"
   ]
  },
  {
   "cell_type": "markdown",
   "id": "160744cb",
   "metadata": {},
   "source": [
    "## Part 5 - train models (3 points)\n",
    "\n",
    "You will then train and return two support vector machine (SVM) models using the sklearn SVC class.  You should allow a choice between linear and radial basis function kernels."
   ]
  },
  {
   "cell_type": "code",
   "execution_count": null,
   "id": "42eedaad",
   "metadata": {},
   "outputs": [],
   "source": [
    "model_linear = mc.train(train_X, train_y, kernel='linear')\n",
    "model_rbf = mc.train(train_X, train_y, kernel=\"rbf\")\n",
    "model_linear, model_rbf"
   ]
  },
  {
   "cell_type": "markdown",
   "id": "3c0d4664",
   "metadata": {},
   "source": [
    "## Part 6 - evaluate the models (5 points)\n",
    "\n",
    "You will calculate and print precision, recall, and F-measure for the models on the test data. In `notes.md`, write down your comparison of these simple measures on the two models and any thoughts you might have on what they mean. (It could be very short, and since the samples do not stay stable between runs, you can save the evaluation scores in `notes.md` too.)"
   ]
  },
  {
   "cell_type": "code",
   "execution_count": null,
   "id": "abcfbcea",
   "metadata": {},
   "outputs": [],
   "source": [
    "mc.eval_model(model_linear, test_X, test_y)\n",
    "mc.eval_model(model_rbf, test_X, test_y)"
   ]
  },
  {
   "cell_type": "markdown",
   "id": "caa9b71e",
   "metadata": {},
   "source": [
    "## Part Bonus - try another sort of model from sklearn (5 points)\n",
    "\n",
    "Write a separate, command-line script (not a notebook) uses `mycode.py` to do all of the above, except that it trains a non-SVM classifier model.  Any non-trivial model available in sklearn will do. Explain how to run your code and the results of your own evaluation in `notes.md`, including any observations or opinions you may have on the classifier method you used in comparison to SVM.\n",
    "\n",
    "## Submission\n",
    "\n",
    "Push to your fork of the GitHub repository (which must be made public) and submit the URL of your repository in Canvas.  You can submit this notebook with the output from your run, as long as you do not modify the code or text in it without permission from us.  "
   ]
  }
 ],
 "metadata": {
  "kernelspec": {
   "display_name": "Python 3 (ipykernel)",
   "language": "python",
   "name": "python3"
  },
  "language_info": {
   "codemirror_mode": {
    "name": "ipython",
    "version": 3
   },
   "file_extension": ".py",
   "mimetype": "text/x-python",
   "name": "python",
   "nbconvert_exporter": "python",
   "pygments_lexer": "ipython3",
   "version": "3.8.10"
  }
 },
 "nbformat": 4,
 "nbformat_minor": 5
}
