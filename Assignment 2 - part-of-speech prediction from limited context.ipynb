{
 "cells": [
  {
   "cell_type": "markdown",
   "id": "4045a47f",
   "metadata": {},
   "source": [
    "# Assignment 2 - part-of-speech prediction from limited context\n",
    "\n",
    "In this assignment, you will train classifiers that attempt, within a window of five words, to make a binary prediction about whether the third word belongs to a given part of speech (noun, verb, adjective, adverb), but using very limited information -- that is, the last two letters of the first, second, fourth, and fifth word of the sequence, and no information whatsoever directly from the third word itself.  You will strip out all punctuation (using the NLTK `WordPunctTokenizer`), lowercase, and remove stop words (using the NLTK English stop words list).\n",
    "\n",
    "In other words, you will predict over samples that have two classes, P and not-P, where P is the selected part of speech to classify.  For example, from the sentence, \"The quick brown fox jumped over the lazy dog.\", we can select the following 5-word windows without stop words, \"brown fox jumped lazy dog\" and \"quick brown fox jumped lazy\".  If we select verbs as the part-of-speech we are classifying over, we get the instances <(wn,ox,zy,og),1>, since \"jumped\" is a verb, but <(ck,wn,ed,zy),0> because \"fox\" in that context is not.\n",
    "\n",
    "This means that you will need to take into account the position of the last-two-letter feature:  \"zy\" as the fourth word's last two letters is different from \"zy\" as the fifth word's last two letters.  They are two features, say, `zy_4` and `zy_5`.\n",
    "\n",
    "This will likely not actually work.  But it might!\n",
    "\n",
    "You will create training and testing samples according to this procedure, and you will build a data structure that can be fed to a support vector machine (SVM) classifier.  You will train the classifier on the training data and evaluate it on the testing data. \n",
    "\n",
    "The work will be done in a .py module file in the same folder as this notebook.  **No modifications to this notebook will be graded.** We will run your module using this notebook or one we modify that you won't see in order to test your code.\n",
    "\n",
    "The file you must create and add to the github repo is `mycode.py`, which will be imported here.  You can create your own notebooks or scripts to test it.  You can put any number of your own helper functions and also put optional parameters on any of the python functions mentioned here. You should also create a Markdown file, `notes.md`, to keep any **concise** notes and remarks about the assignment.  The code must run on mltgpu.\n",
    "\n",
    "**This assignment is due Monday, 2022 March 7, at 23:59. There are 33 points and 5 bonus points.**"
   ]
  },
  {
   "cell_type": "code",
   "execution_count": 1,
   "id": "e61facb2",
   "metadata": {},
   "outputs": [
    {
     "name": "stderr",
     "output_type": "stream",
     "text": [
      "[nltk_data] Downloading package stopwords to\n",
      "[nltk_data]     /home/gusszawma@GU.GU.SE/nltk_data...\n",
      "[nltk_data]   Unzipping corpora/stopwords.zip.\n",
      "[nltk_data] Downloading package averaged_perceptron_tagger to\n",
      "[nltk_data]     /home/gusszawma@GU.GU.SE/nltk_data...\n",
      "[nltk_data]   Unzipping taggers/averaged_perceptron_tagger.zip.\n"
     ]
    }
   ],
   "source": [
    "import mycode as mc"
   ]
  },
  {
   "cell_type": "markdown",
   "id": "129e40ca",
   "metadata": {},
   "source": [
    "## Part 0 - preparation (2 points)\n",
    "\n",
    "Fork this repository and create and add `mycode.py` and `notes.md`. \n",
    "\n",
    "## Part 1 - obtaining the text (3 points)\n",
    "\n",
    "You will randomly select the given number of lines from the gzipped file we give you (so you will have to figure out how to access gzipped text files).  Explain how you implemented the random selection in `notes.md`. When we run it, it should give a new sample every time."
   ]
  },
  {
   "cell_type": "code",
   "execution_count": 2,
   "id": "612f08f1",
   "metadata": {
    "scrolled": true
   },
   "outputs": [
    {
     "name": "stdout",
     "output_type": "stream",
     "text": [
      "100000\n"
     ]
    },
    {
     "data": {
      "text/plain": [
       "['Protocol on Road Signs and Signals, of 19 September 1949',\n",
       " 'Convention on Road Signs and Signals, of 8 November 1968',\n",
       " 'European Agreement supplementing the Convention on Road Traffic (1968), of 1 May 1971',\n",
       " 'European Agreement supplementing the Convention on Road Signs and Signals (1968), of 1 May 1971',\n",
       " 'European Agreement on Road Markings, of 13 December 1957',\n",
       " 'Protocol on Road Markings, Additional to the European Agreement supplementing the Convention on Road Signs and Signals, of 1 March 1973',\n",
       " 'European Agreement concerning the Work of Crews of Vehicles engaged in International Road Transport (AETR), of 1 July 1970',\n",
       " 'Agreement on Minimum Requirements for the Issue and Validity of Driving Permits (APC), of 1 April 1975',\n",
       " 'Transport infrastructures',\n",
       " 'European Agreement on Important Combined Transport Lines and Related Installations (AGTC), of 1 February 1991']"
      ]
     },
     "execution_count": 2,
     "metadata": {},
     "output_type": "execute_result"
    }
   ],
   "source": [
    "sampled_lines = mc.sample_lines(\"/scratch/UN-english.txt.gz\", lines=100000)\n",
    "\n",
    "print(len(sampled_lines))\n",
    "sampled_lines[40000:40010]"
   ]
  },
  {
   "cell_type": "markdown",
   "id": "ee94a339",
   "metadata": {},
   "source": [
    "## Part 2 - creating the samples (7 points)\n",
    "\n",
    "From the sampled lines, you will then randomly create the five-word samples.\n",
    "\n",
    "You will tokenize the sentences and apply POS-tagging to them -- you need to do this before you create the samples, since POS-tagging needs context. You will then remove stop words and punctuation and lowercase the remainder.  Next, you will randomly, over the entire set of sentences, choose samples of five words in sequence, up to a certain limit.  You find the last two characters of the first, second, fourth, and fifth words, and create the type of structure specified up in the introduction to this assignment for each sample. The exact representation is up to you."
   ]
  },
  {
   "cell_type": "code",
   "execution_count": 3,
   "id": "192b9d60",
   "metadata": {},
   "outputs": [
    {
     "data": {
      "text/plain": [
       "[[('protocol', 'NN'),\n",
       "  ('road', 'NNP'),\n",
       "  ('signs', 'NNP'),\n",
       "  ('signals', 'NNP'),\n",
       "  ('september', 'NNP')],\n",
       " [('convention', 'NN'),\n",
       "  ('road', 'NNP'),\n",
       "  ('signs', 'NNP'),\n",
       "  ('signals', 'NNP'),\n",
       "  ('november', 'NNP')],\n",
       " [('european', 'JJ'),\n",
       "  ('agreement', 'NNP'),\n",
       "  ('supplementing', 'VBG'),\n",
       "  ('convention', 'NN'),\n",
       "  ('road', 'NNP'),\n",
       "  ('traffic', 'NNP'),\n",
       "  ('may', 'NNP')],\n",
       " [('european', 'JJ'),\n",
       "  ('agreement', 'NNP'),\n",
       "  ('supplementing', 'VBG'),\n",
       "  ('convention', 'NN'),\n",
       "  ('road', 'NNP'),\n",
       "  ('signs', 'NNP'),\n",
       "  ('signals', 'NNP'),\n",
       "  ('may', 'NNP')],\n",
       " [('european', 'JJ'),\n",
       "  ('agreement', 'NNP'),\n",
       "  ('road', 'NNP'),\n",
       "  ('markings', 'NNP'),\n",
       "  ('december', 'NNP')],\n",
       " [('protocol', 'NN'),\n",
       "  ('road', 'NNP'),\n",
       "  ('markings', 'NNP'),\n",
       "  ('additional', 'NNP'),\n",
       "  ('european', 'JJ'),\n",
       "  ('agreement', 'NNP'),\n",
       "  ('supplementing', 'VBG'),\n",
       "  ('convention', 'NN'),\n",
       "  ('road', 'NNP'),\n",
       "  ('signs', 'NNP'),\n",
       "  ('signals', 'NNP'),\n",
       "  ('march', 'NNP')],\n",
       " [('european', 'JJ'),\n",
       "  ('agreement', 'NNP'),\n",
       "  ('concerning', 'VBG'),\n",
       "  ('work', 'NN'),\n",
       "  ('crews', 'NNP'),\n",
       "  ('vehicles', 'NNP'),\n",
       "  ('engaged', 'VBD'),\n",
       "  ('international', 'NNP'),\n",
       "  ('road', 'NNP'),\n",
       "  ('transport', 'NNP'),\n",
       "  ('aetr', 'NNP'),\n",
       "  ('july', 'NNP')],\n",
       " [('agreement', 'NN'),\n",
       "  ('minimum', 'NNP'),\n",
       "  ('requirements', 'NNP'),\n",
       "  ('issue', 'NNP'),\n",
       "  ('validity', 'NNP'),\n",
       "  ('driving', 'VBG'),\n",
       "  ('permits', 'NNP'),\n",
       "  ('apc', 'NNP'),\n",
       "  ('april', 'NNP')],\n",
       " [('transport', 'NN'), ('infrastructures', 'NNS')],\n",
       " [('european', 'JJ'),\n",
       "  ('agreement', 'NNP'),\n",
       "  ('important', 'NNP'),\n",
       "  ('combined', 'NNP'),\n",
       "  ('transport', 'NNP'),\n",
       "  ('lines', 'NNP'),\n",
       "  ('related', 'VBN'),\n",
       "  ('installations', 'NNS'),\n",
       "  ('agtc', 'NNP'),\n",
       "  ('february', 'NNP')]]"
      ]
     },
     "execution_count": 3,
     "metadata": {},
     "output_type": "execute_result"
    }
   ],
   "source": [
    "processed_sentences = mc.process_sentences(sampled_lines)\n",
    "processed_sentences[40000:40010]"
   ]
  },
  {
   "cell_type": "code",
   "execution_count": 4,
   "id": "670bd928",
   "metadata": {},
   "outputs": [
    {
     "name": "stdout",
     "output_type": "stream",
     "text": [
      "[(('ty_1', 'er_2', 'ng_4', 're_5'), 0), (('er_1', 'nt_2', 're_4', 'ct_5'), 1), (('nt_1', 'ng_2', 'ct_4', 'ty_5'), 0), (('ng_1', 're_2', 'ty_4', 'el_5'), 1), (('re_1', 'ct_2', 'el_4', 'ew_5'), 0), (('ct_1', 'ty_2', 'ew_4', 'ns_5'), 0), (('es_1', 'st_2', 'al_4', 'it_5'), 1), (('st_1', 'ct_2', 'it_4', 'ps_5'), 0), (('ct_1', 'al_2', 'ps_4', 'ne_5'), 0), (('al_1', 'it_2', 'ne_4', 'in_5'), 1)]\n"
     ]
    }
   ],
   "source": [
    "all_samples = mc.create_samples(processed_sentences, samples=50000)\n",
    "\n",
    "print(all_samples[25000:25010])"
   ]
  },
  {
   "cell_type": "markdown",
   "id": "56f6be6d",
   "metadata": {},
   "source": [
    "## Part 3 - convert the samples into a Pandas DataFrame (10 points)\n",
    "\n",
    "Here, you will take the samples and create a table whose columns are the features and the class and whose rows are the samples.  All the features and the class will be binary.  Note that there may be many columns, in the hundreds or thousands depending on the diversity of the final two consonants of the non-stop-words in the dataset, but the sum of all rows will be five."
   ]
  },
  {
   "cell_type": "code",
   "execution_count": 5,
   "id": "8f9fbd67",
   "metadata": {},
   "outputs": [
    {
     "data": {
      "text/html": [
       "<div>\n",
       "<style scoped>\n",
       "    .dataframe tbody tr th:only-of-type {\n",
       "        vertical-align: middle;\n",
       "    }\n",
       "\n",
       "    .dataframe tbody tr th {\n",
       "        vertical-align: top;\n",
       "    }\n",
       "\n",
       "    .dataframe thead th {\n",
       "        text-align: right;\n",
       "    }\n",
       "</style>\n",
       "<table border=\"1\" class=\"dataframe\">\n",
       "  <thead>\n",
       "    <tr style=\"text-align: right;\">\n",
       "      <th></th>\n",
       "      <th>th_1</th>\n",
       "      <th>on_2</th>\n",
       "      <th>de_4</th>\n",
       "      <th>ry_5</th>\n",
       "      <th>on_1</th>\n",
       "      <th>ee_2</th>\n",
       "      <th>ry_4</th>\n",
       "      <th>se_5</th>\n",
       "      <th>ee_1</th>\n",
       "      <th>de_2</th>\n",
       "      <th>...</th>\n",
       "      <th>ln_2</th>\n",
       "      <th>tz_2</th>\n",
       "      <th>tz_1</th>\n",
       "      <th>bw_4</th>\n",
       "      <th>ln_1</th>\n",
       "      <th>bw_2</th>\n",
       "      <th>cm_5</th>\n",
       "      <th>cm_4</th>\n",
       "      <th>hy_5</th>\n",
       "      <th>verb</th>\n",
       "    </tr>\n",
       "  </thead>\n",
       "  <tbody>\n",
       "    <tr>\n",
       "      <th>25000</th>\n",
       "      <td>0</td>\n",
       "      <td>1</td>\n",
       "      <td>0</td>\n",
       "      <td>0</td>\n",
       "      <td>0</td>\n",
       "      <td>0</td>\n",
       "      <td>0</td>\n",
       "      <td>0</td>\n",
       "      <td>0</td>\n",
       "      <td>0</td>\n",
       "      <td>...</td>\n",
       "      <td>0</td>\n",
       "      <td>0</td>\n",
       "      <td>0</td>\n",
       "      <td>0</td>\n",
       "      <td>0</td>\n",
       "      <td>0</td>\n",
       "      <td>0</td>\n",
       "      <td>0</td>\n",
       "      <td>0</td>\n",
       "      <td>0</td>\n",
       "    </tr>\n",
       "    <tr>\n",
       "      <th>25001</th>\n",
       "      <td>0</td>\n",
       "      <td>0</td>\n",
       "      <td>0</td>\n",
       "      <td>0</td>\n",
       "      <td>0</td>\n",
       "      <td>0</td>\n",
       "      <td>0</td>\n",
       "      <td>0</td>\n",
       "      <td>0</td>\n",
       "      <td>0</td>\n",
       "      <td>...</td>\n",
       "      <td>0</td>\n",
       "      <td>0</td>\n",
       "      <td>0</td>\n",
       "      <td>0</td>\n",
       "      <td>0</td>\n",
       "      <td>0</td>\n",
       "      <td>0</td>\n",
       "      <td>0</td>\n",
       "      <td>0</td>\n",
       "      <td>0</td>\n",
       "    </tr>\n",
       "    <tr>\n",
       "      <th>25002</th>\n",
       "      <td>0</td>\n",
       "      <td>0</td>\n",
       "      <td>0</td>\n",
       "      <td>0</td>\n",
       "      <td>0</td>\n",
       "      <td>0</td>\n",
       "      <td>0</td>\n",
       "      <td>0</td>\n",
       "      <td>0</td>\n",
       "      <td>0</td>\n",
       "      <td>...</td>\n",
       "      <td>0</td>\n",
       "      <td>0</td>\n",
       "      <td>0</td>\n",
       "      <td>0</td>\n",
       "      <td>0</td>\n",
       "      <td>0</td>\n",
       "      <td>0</td>\n",
       "      <td>0</td>\n",
       "      <td>0</td>\n",
       "      <td>0</td>\n",
       "    </tr>\n",
       "    <tr>\n",
       "      <th>25003</th>\n",
       "      <td>0</td>\n",
       "      <td>0</td>\n",
       "      <td>0</td>\n",
       "      <td>0</td>\n",
       "      <td>0</td>\n",
       "      <td>0</td>\n",
       "      <td>0</td>\n",
       "      <td>0</td>\n",
       "      <td>0</td>\n",
       "      <td>0</td>\n",
       "      <td>...</td>\n",
       "      <td>0</td>\n",
       "      <td>0</td>\n",
       "      <td>0</td>\n",
       "      <td>0</td>\n",
       "      <td>0</td>\n",
       "      <td>0</td>\n",
       "      <td>0</td>\n",
       "      <td>0</td>\n",
       "      <td>0</td>\n",
       "      <td>1</td>\n",
       "    </tr>\n",
       "    <tr>\n",
       "      <th>25004</th>\n",
       "      <td>0</td>\n",
       "      <td>0</td>\n",
       "      <td>0</td>\n",
       "      <td>0</td>\n",
       "      <td>0</td>\n",
       "      <td>0</td>\n",
       "      <td>0</td>\n",
       "      <td>0</td>\n",
       "      <td>0</td>\n",
       "      <td>0</td>\n",
       "      <td>...</td>\n",
       "      <td>0</td>\n",
       "      <td>0</td>\n",
       "      <td>0</td>\n",
       "      <td>0</td>\n",
       "      <td>0</td>\n",
       "      <td>0</td>\n",
       "      <td>0</td>\n",
       "      <td>0</td>\n",
       "      <td>0</td>\n",
       "      <td>0</td>\n",
       "    </tr>\n",
       "    <tr>\n",
       "      <th>25005</th>\n",
       "      <td>0</td>\n",
       "      <td>0</td>\n",
       "      <td>0</td>\n",
       "      <td>0</td>\n",
       "      <td>0</td>\n",
       "      <td>0</td>\n",
       "      <td>0</td>\n",
       "      <td>0</td>\n",
       "      <td>0</td>\n",
       "      <td>0</td>\n",
       "      <td>...</td>\n",
       "      <td>0</td>\n",
       "      <td>0</td>\n",
       "      <td>0</td>\n",
       "      <td>0</td>\n",
       "      <td>0</td>\n",
       "      <td>0</td>\n",
       "      <td>0</td>\n",
       "      <td>0</td>\n",
       "      <td>0</td>\n",
       "      <td>0</td>\n",
       "    </tr>\n",
       "    <tr>\n",
       "      <th>25006</th>\n",
       "      <td>0</td>\n",
       "      <td>0</td>\n",
       "      <td>0</td>\n",
       "      <td>0</td>\n",
       "      <td>0</td>\n",
       "      <td>0</td>\n",
       "      <td>1</td>\n",
       "      <td>0</td>\n",
       "      <td>0</td>\n",
       "      <td>0</td>\n",
       "      <td>...</td>\n",
       "      <td>0</td>\n",
       "      <td>0</td>\n",
       "      <td>0</td>\n",
       "      <td>0</td>\n",
       "      <td>0</td>\n",
       "      <td>0</td>\n",
       "      <td>0</td>\n",
       "      <td>0</td>\n",
       "      <td>0</td>\n",
       "      <td>0</td>\n",
       "    </tr>\n",
       "    <tr>\n",
       "      <th>25007</th>\n",
       "      <td>0</td>\n",
       "      <td>0</td>\n",
       "      <td>0</td>\n",
       "      <td>0</td>\n",
       "      <td>0</td>\n",
       "      <td>0</td>\n",
       "      <td>0</td>\n",
       "      <td>0</td>\n",
       "      <td>0</td>\n",
       "      <td>0</td>\n",
       "      <td>...</td>\n",
       "      <td>0</td>\n",
       "      <td>0</td>\n",
       "      <td>0</td>\n",
       "      <td>0</td>\n",
       "      <td>0</td>\n",
       "      <td>0</td>\n",
       "      <td>0</td>\n",
       "      <td>0</td>\n",
       "      <td>0</td>\n",
       "      <td>0</td>\n",
       "    </tr>\n",
       "    <tr>\n",
       "      <th>25008</th>\n",
       "      <td>0</td>\n",
       "      <td>0</td>\n",
       "      <td>0</td>\n",
       "      <td>0</td>\n",
       "      <td>0</td>\n",
       "      <td>0</td>\n",
       "      <td>0</td>\n",
       "      <td>0</td>\n",
       "      <td>0</td>\n",
       "      <td>0</td>\n",
       "      <td>...</td>\n",
       "      <td>0</td>\n",
       "      <td>0</td>\n",
       "      <td>0</td>\n",
       "      <td>0</td>\n",
       "      <td>0</td>\n",
       "      <td>0</td>\n",
       "      <td>0</td>\n",
       "      <td>0</td>\n",
       "      <td>0</td>\n",
       "      <td>0</td>\n",
       "    </tr>\n",
       "    <tr>\n",
       "      <th>25009</th>\n",
       "      <td>0</td>\n",
       "      <td>0</td>\n",
       "      <td>0</td>\n",
       "      <td>0</td>\n",
       "      <td>0</td>\n",
       "      <td>0</td>\n",
       "      <td>0</td>\n",
       "      <td>0</td>\n",
       "      <td>0</td>\n",
       "      <td>0</td>\n",
       "      <td>...</td>\n",
       "      <td>0</td>\n",
       "      <td>0</td>\n",
       "      <td>0</td>\n",
       "      <td>0</td>\n",
       "      <td>0</td>\n",
       "      <td>0</td>\n",
       "      <td>0</td>\n",
       "      <td>0</td>\n",
       "      <td>0</td>\n",
       "      <td>1</td>\n",
       "    </tr>\n",
       "  </tbody>\n",
       "</table>\n",
       "<p>10 rows × 1201 columns</p>\n",
       "</div>"
      ],
      "text/plain": [
       "       th_1  on_2  de_4  ry_5  on_1  ee_2  ry_4  se_5  ee_1  de_2  ...  ln_2  \\\n",
       "25000     0     1     0     0     0     0     0     0     0     0  ...     0   \n",
       "25001     0     0     0     0     0     0     0     0     0     0  ...     0   \n",
       "25002     0     0     0     0     0     0     0     0     0     0  ...     0   \n",
       "25003     0     0     0     0     0     0     0     0     0     0  ...     0   \n",
       "25004     0     0     0     0     0     0     0     0     0     0  ...     0   \n",
       "25005     0     0     0     0     0     0     0     0     0     0  ...     0   \n",
       "25006     0     0     0     0     0     0     1     0     0     0  ...     0   \n",
       "25007     0     0     0     0     0     0     0     0     0     0  ...     0   \n",
       "25008     0     0     0     0     0     0     0     0     0     0  ...     0   \n",
       "25009     0     0     0     0     0     0     0     0     0     0  ...     0   \n",
       "\n",
       "       tz_2  tz_1  bw_4  ln_1  bw_2  cm_5  cm_4  hy_5  verb  \n",
       "25000     0     0     0     0     0     0     0     0     0  \n",
       "25001     0     0     0     0     0     0     0     0     0  \n",
       "25002     0     0     0     0     0     0     0     0     0  \n",
       "25003     0     0     0     0     0     0     0     0     1  \n",
       "25004     0     0     0     0     0     0     0     0     0  \n",
       "25005     0     0     0     0     0     0     0     0     0  \n",
       "25006     0     0     0     0     0     0     0     0     0  \n",
       "25007     0     0     0     0     0     0     0     0     0  \n",
       "25008     0     0     0     0     0     0     0     0     0  \n",
       "25009     0     0     0     0     0     0     0     0     1  \n",
       "\n",
       "[10 rows x 1201 columns]"
      ]
     },
     "execution_count": 5,
     "metadata": {},
     "output_type": "execute_result"
    }
   ],
   "source": [
    "fulldf = mc.create_df(all_samples)\n",
    "fulldf[25000:25010]"
   ]
  },
  {
   "cell_type": "markdown",
   "id": "a34b87ed",
   "metadata": {},
   "source": [
    "## Part 4 - extract training and testing sets (3 points)\n",
    "\n",
    "Here, you will create the training and testing datasets in order to train the model.  This will be based on a test percentage.  Round up if the percentage does not divide evenly into the sample size.  You will need to separate the class column into the y-values for the classifier."
   ]
  },
  {
   "cell_type": "code",
   "execution_count": 6,
   "id": "cc332791",
   "metadata": {},
   "outputs": [
    {
     "data": {
      "text/plain": [
       "(40000, 40000, 10000, 10000)"
      ]
     },
     "execution_count": 6,
     "metadata": {},
     "output_type": "execute_result"
    }
   ],
   "source": [
    "train_X, train_y, test_X, test_y = mc.split_samples(fulldf, test_percent=20)\n",
    "len(train_X), len(train_y), len(test_X), len(test_y)"
   ]
  },
  {
   "cell_type": "markdown",
   "id": "374f4c65",
   "metadata": {},
   "source": [
    "## Part 5 - train models (3 points)\n",
    "\n",
    "You will then train and return two support vector machine (SVM) models using the sklearn SVC class.  You should allow a choice between linear and radial basis function kernels."
   ]
  },
  {
   "cell_type": "code",
   "execution_count": 7,
   "id": "42eedaad",
   "metadata": {},
   "outputs": [
    {
     "data": {
      "text/plain": [
       "(SVC(kernel='linear'), SVC())"
      ]
     },
     "execution_count": 7,
     "metadata": {},
     "output_type": "execute_result"
    }
   ],
   "source": [
    "model_linear = mc.train(train_X, train_y, kernel='linear')\n",
    "model_rbf = mc.train(train_X, train_y, kernel=\"rbf\")\n",
    "model_linear, model_rbf"
   ]
  },
  {
   "cell_type": "markdown",
   "id": "3c0d4664",
   "metadata": {},
   "source": [
    "## Part 6 - evaluate the models (5 points)\n",
    "\n",
    "You will calculate and print precision, recall, and F-measure for the models on the test data. In `notes.md`, write down your comparison of these simple measures on the two models and any thoughts you might have on what they mean. (It could be very short, and since the samples do not stay stable between runs, you can save the evaluation scores in `notes.md` too.)"
   ]
  },
  {
   "cell_type": "code",
   "execution_count": 8,
   "id": "abcfbcea",
   "metadata": {},
   "outputs": [
    {
     "name": "stdout",
     "output_type": "stream",
     "text": [
      "For the model SVC(kernel='linear') the following scores were obtained: \n",
      "\tprecision = 0.532258064516129 \n",
      "\trecall = 0.039663461538461536 \n",
      "\tf1 score = 0.07382550335570469\n",
      "For the model SVC() the following scores were obtained: \n",
      "\tprecision = 0.8441558441558441 \n",
      "\trecall = 0.078125 \n",
      "\tf1 score = 0.14301430143014301\n"
     ]
    }
   ],
   "source": [
    "mc.eval_model(model_linear, test_X, test_y)\n",
    "mc.eval_model(model_rbf, test_X, test_y)"
   ]
  },
  {
   "cell_type": "markdown",
   "id": "caa9b71e",
   "metadata": {},
   "source": [
    "## Part Bonus - try another sort of model from sklearn (5 points)\n",
    "\n",
    "Write a separate, command-line script (not a notebook) uses `mycode.py` to do all of the above, except that it trains a non-SVM classifier model.  Any non-trivial model available in sklearn will do. Explain how to run your code and the results of your own evaluation in `notes.md`, including any observations or opinions you may have on the classifier method you used in comparison to SVM.\n",
    "\n",
    "## Submission\n",
    "\n",
    "Push to your fork of the GitHub repository (which must be made public) and submit the URL of your repository in Canvas.  You can submit this notebook with the output from your run, as long as you do not modify the code or text in it without permission from us.  "
   ]
  }
 ],
 "metadata": {
  "kernelspec": {
   "display_name": "Python 3 (ipykernel)",
   "language": "python",
   "name": "python3"
  },
  "language_info": {
   "codemirror_mode": {
    "name": "ipython",
    "version": 3
   },
   "file_extension": ".py",
   "mimetype": "text/x-python",
   "name": "python",
   "nbconvert_exporter": "python",
   "pygments_lexer": "ipython3",
   "version": "3.9.6"
  }
 },
 "nbformat": 4,
 "nbformat_minor": 5
}
