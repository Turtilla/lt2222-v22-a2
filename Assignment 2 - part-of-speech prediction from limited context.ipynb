{
 "cells": [
  {
   "cell_type": "markdown",
   "id": "4045a47f",
   "metadata": {},
   "source": [
    "# Assignment 2 - part-of-speech prediction from limited context\n",
    "\n",
    "In this assignment, you will train classifiers that attempt, within a window of five words, to make a binary prediction about whether the third word belongs to a given part of speech (noun, verb, adjective, adverb), but using very limited information -- that is, the last two letters of the first, second, fourth, and fifth word of the sequence, and no information whatsoever directly from the third word itself.  You will strip out all punctuation (using the NLTK `WordPunctTokenizer`), lowercase, and remove stop words (using the NLTK English stop words list).\n",
    "\n",
    "In other words, you will predict over samples that have two classes, P and not-P, where P is the selected part of speech to classify.  For example, from the sentence, \"The quick brown fox jumped over the lazy dog.\", we can select the following 5-word windows without stop words, \"brown fox jumped lazy dog\" and \"quick brown fox jumped lazy\".  If we select verbs as the part-of-speech we are classifying over, we get the instances <(wn,ox,zy,og),1>, since \"jumped\" is a verb, but <(ck,wn,ed,zy),0> because \"fox\" in that context is not.\n",
    "\n",
    "This means that you will need to take into account the position of the last-two-letter feature:  \"zy\" as the fourth word's last two letters is different from \"zy\" as the fifth word's last two letters.  They are two features, say, `zy_4` and `zy_5`.\n",
    "\n",
    "This will likely not actually work.  But it might!\n",
    "\n",
    "You will create training and testing samples according to this procedure, and you will build a data structure that can be fed to a support vector machine (SVM) classifier.  You will train the classifier on the training data and evaluate it on the testing data. \n",
    "\n",
    "The work will be done in a .py module file in the same folder as this notebook.  **No modifications to this notebook will be graded.** We will run your module using this notebook or one we modify that you won't see in order to test your code.\n",
    "\n",
    "The file you must create and add to the github repo is `mycode.py`, which will be imported here.  You can create your own notebooks or scripts to test it.  You can put any number of your own helper functions and also put optional parameters on any of the python functions mentioned here. You should also create a Markdown file, `notes.md`, to keep any **concise** notes and remarks about the assignment.  The code must run on mltgpu.\n",
    "\n",
    "**This assignment is due Monday, 2022 March 7, at 23:59. There are 33 points and 5 bonus points.**"
   ]
  },
  {
   "cell_type": "code",
   "execution_count": 1,
   "id": "e61facb2",
   "metadata": {},
   "outputs": [
    {
     "name": "stderr",
     "output_type": "stream",
     "text": [
      "[nltk_data] Downloading package stopwords to\n",
      "[nltk_data]     /home/turtilla/nltk_data...\n",
      "[nltk_data]   Package stopwords is already up-to-date!\n",
      "[nltk_data] Downloading package averaged_perceptron_tagger to\n",
      "[nltk_data]     /home/turtilla/nltk_data...\n",
      "[nltk_data]   Package averaged_perceptron_tagger is already up-to-\n",
      "[nltk_data]       date!\n"
     ]
    }
   ],
   "source": [
    "import mycode as mc"
   ]
  },
  {
   "cell_type": "markdown",
   "id": "129e40ca",
   "metadata": {},
   "source": [
    "## Part 0 - preparation (2 points)\n",
    "\n",
    "Fork this repository and create and add `mycode.py` and `notes.md`. \n",
    "\n",
    "## Part 1 - obtaining the text (3 points)\n",
    "\n",
    "You will randomly select the given number of lines from the gzipped file we give you (so you will have to figure out how to access gzipped text files).  Explain how you implemented the random selection in `notes.md`. When we run it, it should give a new sample every time."
   ]
  },
  {
   "cell_type": "code",
   "execution_count": 3,
   "id": "612f08f1",
   "metadata": {},
   "outputs": [
    {
     "name": "stdout",
     "output_type": "stream",
     "text": [
      "100000\n"
     ]
    },
    {
     "data": {
      "text/plain": [
       "['Recalling its decision 58/560 of 23 December 2003,',\n",
       " 'Having considered the report of the Joint Inspection Unit on support costs related to extrabudgetary activities in organizations of the United Nations system, the note by the Secretary-General transmitting his comments and those of the United Nations System Chief Executives Board for Coordination thereon and the related report of the Advisory Committee on Administrative and Budgetary Questions, as well as the note by the Joint Inspection Unit submitted in response to General Assembly decision 58/560, clarifying further some of the recommendations contained in its report,',\n",
       " '1. Concurs with the observations and recommendations of the Advisory Committee on Administrative and Budgetary Questions contained in its report,3 subject to the provisions of the present resolution;',\n",
       " '2. Takes note of the comments of the Secretary-General and those of the United Nations System Chief Executives Board for Coordination;2',\n",
       " '3. Endorses the recommendations contained in the report of the Joint Inspection Unit on support costs related to extrabudgetary activities in organizations of the United Nations system1 to the extent that they apply to the United Nations, subject to the provisions of the present resolution;',\n",
       " '4. Recognizes that recommendations 2, 3, 5, 6, 8 and 10 are directed to executive heads, and invites executive heads to consider those recommendations;',\n",
       " '5. Takes note of recommendation 1, and agrees with the Joint Inspection Unit that governing bodies should take the steps they consider necessary to ensure that extrabudgetary resources are accepted for purposes that are consistent with programme priorities and approved mandates;',\n",
       " \"6. Also takes note of recommendation 4, and draws the attention of legislative organs to the practice of the United Nations Children's Fund under which interest earned on some extrabudgetary contributions is retained by the Organization, and invites legislative organs to consider the applicability or relevance of this practice to them;\",\n",
       " '7. Further takes note of recommendation 9, and agrees with the Joint Inspection Unit that legislative organs should enact support cost policies to ensure that extrabudgetary resources continue to be mobilized and deployed effectively so as to further the mandated activities in developmental, humanitarian and other substantive areas, and also agrees that those policies should be straightforward, transparent, easy to administer and must provide for a consistent and equitable approach to special arrangements.',\n",
       " 'Fifty-eighth session']"
      ]
     },
     "execution_count": 3,
     "metadata": {},
     "output_type": "execute_result"
    }
   ],
   "source": [
    "sampled_lines = mc.sample_lines(\"UN-english.txt.gz\", lines=100000)\n",
    "                            \n",
    "print(len(sampled_lines))\n",
    "sampled_lines[40000:40010]"
   ]
  },
  {
   "cell_type": "markdown",
   "id": "ee94a339",
   "metadata": {},
   "source": [
    "## Part 2 - creating the samples (7 points)\n",
    "\n",
    "From the sampled lines, you will then randomly create the five-word samples.\n",
    "\n",
    "You will tokenize the sentences and apply POS-tagging to them -- you need to do this before you create the samples, since POS-tagging needs context. You will then remove stop words and punctuation and lowercase the remainder.  Next, you will randomly, over the entire set of sentences, choose samples of five words in sequence, up to a certain limit.  You find the last two characters of the first, second, fourth, and fifth words, and create the type of structure specified up in the introduction to this assignment for each sample. The exact representation is up to you."
   ]
  },
  {
   "cell_type": "code",
   "execution_count": 4,
   "id": "192b9d60",
   "metadata": {},
   "outputs": [
    {
     "data": {
      "text/plain": [
       "[[('recalling', 'VBG'), ('decision', 'NN'), ('december', 'NNP')],\n",
       " [('considered', 'VBN'),\n",
       "  ('report', 'NN'),\n",
       "  ('joint', 'NNP'),\n",
       "  ('inspection', 'NNP'),\n",
       "  ('unit', 'NNP'),\n",
       "  ('support', 'NN'),\n",
       "  ('costs', 'NNS'),\n",
       "  ('related', 'VBN'),\n",
       "  ('extrabudgetary', 'JJ'),\n",
       "  ('activities', 'NNS'),\n",
       "  ('organizations', 'NNS'),\n",
       "  ('united', 'NNP'),\n",
       "  ('nations', 'NNP'),\n",
       "  ('system', 'NN'),\n",
       "  ('note', 'NN'),\n",
       "  ('secretary', 'NNP'),\n",
       "  ('general', 'JJ'),\n",
       "  ('transmitting', 'VBG'),\n",
       "  ('comments', 'NNS'),\n",
       "  ('united', 'NNP'),\n",
       "  ('nations', 'NNP'),\n",
       "  ('system', 'NNP'),\n",
       "  ('chief', 'NNP'),\n",
       "  ('executives', 'NNP'),\n",
       "  ('board', 'NNP'),\n",
       "  ('coordination', 'NNP'),\n",
       "  ('thereon', 'NN'),\n",
       "  ('related', 'JJ'),\n",
       "  ('report', 'NN'),\n",
       "  ('advisory', 'NNP'),\n",
       "  ('committee', 'NNP'),\n",
       "  ('administrative', 'NNP'),\n",
       "  ('budgetary', 'NNP'),\n",
       "  ('questions', 'NNP'),\n",
       "  ('well', 'RB'),\n",
       "  ('note', 'NN'),\n",
       "  ('joint', 'NNP'),\n",
       "  ('inspection', 'NNP'),\n",
       "  ('unit', 'NNP'),\n",
       "  ('submitted', 'VBD'),\n",
       "  ('response', 'NN'),\n",
       "  ('general', 'NNP'),\n",
       "  ('assembly', 'NNP'),\n",
       "  ('decision', 'NN'),\n",
       "  ('clarifying', 'VBG'),\n",
       "  ('recommendations', 'NNS'),\n",
       "  ('contained', 'VBN'),\n",
       "  ('report', 'NN')],\n",
       " [('concurs', 'NNS'),\n",
       "  ('observations', 'NNS'),\n",
       "  ('recommendations', 'NNS'),\n",
       "  ('advisory', 'NNP'),\n",
       "  ('committee', 'NNP'),\n",
       "  ('administrative', 'NNP'),\n",
       "  ('budgetary', 'NNP'),\n",
       "  ('questions', 'NNP'),\n",
       "  ('contained', 'VBD'),\n",
       "  ('report', 'NN'),\n",
       "  ('subject', 'NN'),\n",
       "  ('provisions', 'NNS'),\n",
       "  ('present', 'JJ'),\n",
       "  ('resolution', 'NN')],\n",
       " [('takes', 'NNP'),\n",
       "  ('note', 'NN'),\n",
       "  ('comments', 'NNS'),\n",
       "  ('secretary', 'NNP'),\n",
       "  ('general', 'JJ'),\n",
       "  ('united', 'NNP'),\n",
       "  ('nations', 'NNP'),\n",
       "  ('system', 'NNP'),\n",
       "  ('chief', 'NNP'),\n",
       "  ('executives', 'NNP'),\n",
       "  ('board', 'NNP'),\n",
       "  ('coordination', 'NNP')],\n",
       " [('endorses', 'VBZ'),\n",
       "  ('recommendations', 'NNS'),\n",
       "  ('contained', 'VBN'),\n",
       "  ('report', 'NN'),\n",
       "  ('joint', 'NNP'),\n",
       "  ('inspection', 'NNP'),\n",
       "  ('unit', 'NNP'),\n",
       "  ('support', 'NN'),\n",
       "  ('costs', 'NNS'),\n",
       "  ('related', 'VBN'),\n",
       "  ('extrabudgetary', 'JJ'),\n",
       "  ('activities', 'NNS'),\n",
       "  ('organizations', 'NNS'),\n",
       "  ('united', 'NNP'),\n",
       "  ('nations', 'NNPS'),\n",
       "  ('extent', 'NN'),\n",
       "  ('apply', 'VBP'),\n",
       "  ('united', 'NNP'),\n",
       "  ('nations', 'NNPS'),\n",
       "  ('subject', 'JJ'),\n",
       "  ('provisions', 'NNS'),\n",
       "  ('present', 'JJ'),\n",
       "  ('resolution', 'NN')],\n",
       " [('recognizes', 'VB'),\n",
       "  ('recommendations', 'NNS'),\n",
       "  ('directed', 'VBN'),\n",
       "  ('executive', 'VB'),\n",
       "  ('heads', 'NNS'),\n",
       "  ('invites', 'VBZ'),\n",
       "  ('executive', 'JJ'),\n",
       "  ('heads', 'NNS'),\n",
       "  ('consider', 'VB'),\n",
       "  ('recommendations', 'NNS')],\n",
       " [('takes', 'NNP'),\n",
       "  ('note', 'NN'),\n",
       "  ('recommendation', 'NN'),\n",
       "  ('agrees', 'VBZ'),\n",
       "  ('joint', 'NNP'),\n",
       "  ('inspection', 'NNP'),\n",
       "  ('unit', 'NNP'),\n",
       "  ('governing', 'VBG'),\n",
       "  ('bodies', 'NNS'),\n",
       "  ('take', 'VB'),\n",
       "  ('steps', 'NNS'),\n",
       "  ('consider', 'VBP'),\n",
       "  ('necessary', 'JJ'),\n",
       "  ('ensure', 'VB'),\n",
       "  ('extrabudgetary', 'JJ'),\n",
       "  ('resources', 'NNS'),\n",
       "  ('accepted', 'VBN'),\n",
       "  ('purposes', 'NNS'),\n",
       "  ('consistent', 'JJ'),\n",
       "  ('programme', 'JJ'),\n",
       "  ('priorities', 'NNS'),\n",
       "  ('approved', 'VBD'),\n",
       "  ('mandates', 'NNS')],\n",
       " [('also', 'RB'),\n",
       "  ('takes', 'VBZ'),\n",
       "  ('note', 'NN'),\n",
       "  ('recommendation', 'NN'),\n",
       "  ('draws', 'VBZ'),\n",
       "  ('attention', 'NN'),\n",
       "  ('legislative', 'JJ'),\n",
       "  ('organs', 'NNS'),\n",
       "  ('practice', 'NN'),\n",
       "  ('united', 'NNP'),\n",
       "  ('nations', 'NNP'),\n",
       "  ('children', 'NNP'),\n",
       "  ('fund', 'NNP'),\n",
       "  ('interest', 'NN'),\n",
       "  ('earned', 'VBN'),\n",
       "  ('extrabudgetary', 'JJ'),\n",
       "  ('contributions', 'NNS'),\n",
       "  ('retained', 'VBN'),\n",
       "  ('organization', 'NNP'),\n",
       "  ('invites', 'VBZ'),\n",
       "  ('legislative', 'JJ'),\n",
       "  ('organs', 'NNS'),\n",
       "  ('consider', 'VB'),\n",
       "  ('applicability', 'NN'),\n",
       "  ('relevance', 'NN'),\n",
       "  ('practice', 'NN')],\n",
       " [('takes', 'VBZ'),\n",
       "  ('note', 'NN'),\n",
       "  ('recommendation', 'NN'),\n",
       "  ('agrees', 'VBZ'),\n",
       "  ('joint', 'NNP'),\n",
       "  ('inspection', 'NNP'),\n",
       "  ('unit', 'NNP'),\n",
       "  ('legislative', 'JJ'),\n",
       "  ('organs', 'NNS'),\n",
       "  ('enact', 'VB'),\n",
       "  ('support', 'NN'),\n",
       "  ('cost', 'NN'),\n",
       "  ('policies', 'NNS'),\n",
       "  ('ensure', 'VB'),\n",
       "  ('extrabudgetary', 'JJ'),\n",
       "  ('resources', 'NNS'),\n",
       "  ('continue', 'VBP'),\n",
       "  ('mobilized', 'VBN'),\n",
       "  ('deployed', 'VBN'),\n",
       "  ('effectively', 'RB'),\n",
       "  ('mandated', 'JJ'),\n",
       "  ('activities', 'NNS'),\n",
       "  ('developmental', 'NN'),\n",
       "  ('humanitarian', 'JJ'),\n",
       "  ('substantive', 'JJ'),\n",
       "  ('areas', 'NNS'),\n",
       "  ('also', 'RB'),\n",
       "  ('agrees', 'VBZ'),\n",
       "  ('policies', 'NNS'),\n",
       "  ('straightforward', 'RB'),\n",
       "  ('transparent', 'NN'),\n",
       "  ('easy', 'JJ'),\n",
       "  ('administer', 'VB'),\n",
       "  ('must', 'MD'),\n",
       "  ('provide', 'VB'),\n",
       "  ('consistent', 'JJ'),\n",
       "  ('equitable', 'JJ'),\n",
       "  ('approach', 'NN'),\n",
       "  ('special', 'JJ'),\n",
       "  ('arrangements', 'NNS')],\n",
       " [('fifty', 'NNP'), ('eighth', 'JJ'), ('session', 'NN')]]"
      ]
     },
     "execution_count": 4,
     "metadata": {},
     "output_type": "execute_result"
    }
   ],
   "source": [
    "processed_sentences = mc.process_sentences(sampled_lines)\n",
    "processed_sentences[40000:40010]"
   ]
  },
  {
   "cell_type": "code",
   "execution_count": 7,
   "id": "670bd928",
   "metadata": {},
   "outputs": [
    {
     "name": "stdout",
     "output_type": "stream",
     "text": [
      "50000\n",
      "[(('unmibh', 'NNP'), ('increased', 'JJ'), ('requirements', 'NNS'), ('information', 'NN'), ('technology', 'NN')), (('increased', 'JJ'), ('requirements', 'NNS'), ('information', 'NN'), ('technology', 'NN'), ('due', 'JJ')), (('requirements', 'NNS'), ('information', 'NN'), ('technology', 'NN'), ('due', 'JJ'), ('mainly', 'RB')), (('information', 'NN'), ('technology', 'NN'), ('due', 'JJ'), ('mainly', 'RB'), ('replacement', 'NN')), (('technology', 'NN'), ('due', 'JJ'), ('mainly', 'RB'), ('replacement', 'NN'), ('equipment', 'NN')), (('due', 'JJ'), ('mainly', 'RB'), ('replacement', 'NN'), ('equipment', 'NN'), ('line', 'NN')), (('mainly', 'RB'), ('replacement', 'NN'), ('equipment', 'NN'), ('line', 'NN'), ('per', 'IN')), (('replacement', 'NN'), ('equipment', 'NN'), ('line', 'NN'), ('per', 'IN'), ('cent', 'NN')), (('equipment', 'NN'), ('line', 'NN'), ('per', 'IN'), ('cent', 'NN'), ('replacement', 'NN')), (('line', 'NN'), ('per', 'IN'), ('cent', 'NN'), ('replacement', 'NN'), ('policy', 'NN'))]\n"
     ]
    }
   ],
   "source": [
    "all_samples = mc.create_samples(processed_sentences, samples=50000)\n",
    "\n",
    "print(len(all_samples))\n",
    "print(all_samples[25000:25010])"
   ]
  },
  {
   "cell_type": "markdown",
   "id": "56f6be6d",
   "metadata": {},
   "source": [
    "## Part 3 - convert the samples into a Pandas DataFrame (10 points)\n",
    "\n",
    "Here, you will take the samples and create a table whose columns are the features and the class and whose rows are the samples.  All the features and the class will be binary.  Note that there may be many columns, in the hundreds or thousands depending on the diversity of the final two consonants of the non-stop-words in the dataset, but the sum of all rows will be five."
   ]
  },
  {
   "cell_type": "code",
   "execution_count": null,
   "id": "8f9fbd67",
   "metadata": {},
   "outputs": [],
   "source": [
    "fulldf = mc.create_df(all_samples)\n",
    "fulldf[25000:25010]"
   ]
  },
  {
   "cell_type": "markdown",
   "id": "a34b87ed",
   "metadata": {},
   "source": [
    "## Part 4 - extract training and testing sets (3 points)\n",
    "\n",
    "Here, you will create the training and testing datasets in order to train the model.  This will be based on a test percentage.  Round up if the percentage does not divide evenly into the sample size.  You will need to separate the class column into the y-values for the classifier."
   ]
  },
  {
   "cell_type": "code",
   "execution_count": null,
   "id": "cc332791",
   "metadata": {},
   "outputs": [],
   "source": [
    "train_X, train_y, test_X, test_y = mc.split_samples(fulldf, test_percent=20)\n",
    "len(train_X), len(train_y), len(test_X), len(test_y)"
   ]
  },
  {
   "cell_type": "markdown",
   "id": "160744cb",
   "metadata": {},
   "source": [
    "## Part 5 - train models (3 points)\n",
    "\n",
    "You will then train and return two support vector machine (SVM) models using the sklearn SVC class.  You should allow a choice between linear and radial basis function kernels."
   ]
  },
  {
   "cell_type": "code",
   "execution_count": null,
   "id": "42eedaad",
   "metadata": {},
   "outputs": [],
   "source": [
    "model_linear = mc.train(train_X, train_y, kernel='linear')\n",
    "model_rbf = mc.train(train_X, train_y, kernel=\"rbf\")\n",
    "model_linear, model_rbf"
   ]
  },
  {
   "cell_type": "markdown",
   "id": "3c0d4664",
   "metadata": {},
   "source": [
    "## Part 6 - evaluate the models (5 points)\n",
    "\n",
    "You will calculate and print precision, recall, and F-measure for the models on the test data. In `notes.md`, write down your comparison of these simple measures on the two models and any thoughts you might have on what they mean. (It could be very short, and since the samples do not stay stable between runs, you can save the evaluation scores in `notes.md` too.)"
   ]
  },
  {
   "cell_type": "code",
   "execution_count": null,
   "id": "abcfbcea",
   "metadata": {},
   "outputs": [],
   "source": [
    "mc.eval_model(model_linear, test_X, test_y)\n",
    "mc.eval_model(model_rbf, test_X, test_y)"
   ]
  },
  {
   "cell_type": "markdown",
   "id": "caa9b71e",
   "metadata": {},
   "source": [
    "## Part Bonus - try another sort of model from sklearn (5 points)\n",
    "\n",
    "Write a separate, command-line script (not a notebook) uses `mycode.py` to do all of the above, except that it trains a non-SVM classifier model.  Any non-trivial model available in sklearn will do. Explain how to run your code and the results of your own evaluation in `notes.md`, including any observations or opinions you may have on the classifier method you used in comparison to SVM.\n",
    "\n",
    "## Submission\n",
    "\n",
    "Push to your fork of the GitHub repository (which must be made public) and submit the URL of your repository in Canvas.  You can submit this notebook with the output from your run, as long as you do not modify the code or text in it without permission from us.  "
   ]
  }
 ],
 "metadata": {
  "kernelspec": {
   "display_name": "Python 3 (ipykernel)",
   "language": "python",
   "name": "python3"
  },
  "language_info": {
   "codemirror_mode": {
    "name": "ipython",
    "version": 3
   },
   "file_extension": ".py",
   "mimetype": "text/x-python",
   "name": "python",
   "nbconvert_exporter": "python",
   "pygments_lexer": "ipython3",
   "version": "3.8.10"
  }
 },
 "nbformat": 4,
 "nbformat_minor": 5
}
